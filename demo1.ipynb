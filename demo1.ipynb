{
 "cells": [
  {
   "cell_type": "markdown",
   "metadata": {},
   "source": [
    "# IPython2CWL DEMO\n"
   ]
  },
  {
   "cell_type": "markdown",
   "metadata": {},
   "source": [
    "Users can use typing hints in string format or by importing the library."
   ]
  },
  {
   "cell_type": "code",
   "execution_count": 2,
   "metadata": {},
   "outputs": [],
   "source": [
    "!echo \"Hello World 1\" > message1.txt\n",
    "file_input1: 'CWLFilePathInput' = 'message1.txt'\n",
    "with open(file_input1, 'r') as f:\n",
    "    data1 = f.read()    "
   ]
  },
  {
   "cell_type": "code",
   "execution_count": 3,
   "metadata": {},
   "outputs": [],
   "source": [
    "!echo \"Hello World 2\" > message2.txt\n",
    "from ipython2cwl.iotypes import CWLFilePathInput\n",
    "file_input2: CWLFilePathInput = 'message2.txt'\n",
    "with open(file_input2, 'r') as f:\n",
    "    data2 = f.read()"
   ]
  },
  {
   "cell_type": "markdown",
   "metadata": {},
   "source": [
    "For each variable which has the typing hints the tool will remove the presented assigment and it will generify it and expose it as a command line argument. \n",
    "\n",
    "Currently the supported type hints are: \n",
    "* CWLFilePathInput\n",
    "* CWLBooleanInput\n",
    "* CWLStringInput\n",
    "* CWLIntInput\n",
    "* CWLFilePathOutput\n",
    "\n",
    "These types can be also combined with List & Optional."
   ]
  },
  {
   "cell_type": "code",
   "execution_count": 4,
   "metadata": {},
   "outputs": [
    {
     "name": "stdout",
     "output_type": "stream",
     "text": [
      "message1: hello world !\n",
      "message2: hello world !!\n",
      "message3: hello world !!!\n",
      "messages4\n"
     ]
    }
   ],
   "source": [
    "import os\n",
    "from typing import List\n",
    "from ipython2cwl.iotypes import CWLStringInput\n",
    "messages1: List[CWLStringInput] = [\"message1:\", \"hello\", \"world\", '!']\n",
    "messages2: List['CWLStringInput'] = [\"message2:\", \"hello\", \"world\", \"!!\"]\n",
    "messages3: 'List[CWLStringInput]' = [\"message3:\", \"hello\", \"world\", \"!!!\"]\n",
    "messages4: 'Optional[CWLStringInput]' = \"messages4\"\n",
    "\n",
    "print(' '.join(messages1))\n",
    "print(' '.join(messages2))\n",
    "print(' '.join(messages3))\n",
    "if messages4 is None:\n",
    "    print('='*20)\n",
    "    print(\"Message 4 is None\")\n",
    "    print('='*20)\n",
    "else:\n",
    "    print(messages4)"
   ]
  },
  {
   "cell_type": "markdown",
   "metadata": {},
   "source": [
    "To store the results to a file we have to define a variable and give the hint CWLFilePathOutput."
   ]
  },
  {
   "cell_type": "code",
   "execution_count": 5,
   "metadata": {},
   "outputs": [],
   "source": [
    "output: 'CWLFilePathOutput' = 'output.txt'\n",
    "with open(output, 'w') as f:\n",
    "    f.write(' '.join(messages1))\n",
    "    f.write(os.linesep)\n",
    "    f.write('-'*10)\n",
    "    f.write(os.linesep)\n",
    "    f.write(' '.join(messages2))\n",
    "    f.write(os.linesep)\n",
    "    f.write('-'*10)\n",
    "    f.write(os.linesep)\n",
    "    f.write(' '.join(messages3))"
   ]
  },
  {
   "cell_type": "code",
   "execution_count": 6,
   "metadata": {},
   "outputs": [
    {
     "name": "stdout",
     "output_type": "stream",
     "text": [
      "message1: hello world !\r\n",
      "----------\r\n",
      "message2: hello world !!\r\n",
      "----------\r\n",
      "message3: hello world !!!"
     ]
    }
   ],
   "source": [
    "!cat output.txt"
   ]
  },
  {
   "cell_type": "markdown",
   "metadata": {},
   "source": [
    "The auto-generated CWL file will look like:"
   ]
  },
  {
   "cell_type": "code",
   "execution_count": 9,
   "metadata": {},
   "outputs": [
    {
     "name": "stdout",
     "output_type": "stream",
     "text": [
      "arguments:\r\n",
      "- --\r\n",
      "baseCommand: /app/cwl/bin/demo1\r\n",
      "class: CommandLineTool\r\n",
      "cwlVersion: v1.1\r\n",
      "hints:\r\n",
      "  DockerRequirement:\r\n",
      "    dockerImageId: r2d-2fvar-2ffolders-2fk8-2f800hfw-5fn2md-5f2zb44lhhtqqr0000gn-2ft-2frepo2cwl-5fixi144l4-2frepo1593555577\r\n",
      "inputs:\r\n",
      "  file_input1:\r\n",
      "    inputBinding:\r\n",
      "      prefix: --file_input1\r\n",
      "    type: File\r\n",
      "  file_input2:\r\n",
      "    inputBinding:\r\n",
      "      prefix: --file_input2\r\n",
      "    type: File\r\n",
      "  messages1:\r\n",
      "    inputBinding:\r\n",
      "      prefix: --messages1\r\n",
      "    type: string[]\r\n",
      "  messages2:\r\n",
      "    inputBinding:\r\n",
      "      prefix: --messages2\r\n",
      "    type: string[]\r\n",
      "  messages3:\r\n",
      "    inputBinding:\r\n",
      "      prefix: --messages3\r\n",
      "    type: string[]\r\n",
      "  messages4:\r\n",
      "    inputBinding:\r\n",
      "      prefix: --messages4\r\n",
      "    type: string?\r\n",
      "outputs:\r\n",
      "  output:\r\n",
      "    outputBinding:\r\n",
      "      glob: output.txt\r\n",
      "    type: File\r\n"
     ]
    }
   ],
   "source": [
    "# !cat ../out/demo1.cwl"
   ]
  }
 ],
 "metadata": {
  "kernelspec": {
   "display_name": "Python 3",
   "language": "python",
   "name": "python3"
  },
  "language_info": {
   "codemirror_mode": {
    "name": "ipython",
    "version": 3
   },
   "file_extension": ".py",
   "mimetype": "text/x-python",
   "name": "python",
   "nbconvert_exporter": "python",
   "pygments_lexer": "ipython3",
   "version": "3.8.2"
  }
 },
 "nbformat": 4,
 "nbformat_minor": 4
}
